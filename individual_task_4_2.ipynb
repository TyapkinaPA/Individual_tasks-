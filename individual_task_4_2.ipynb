{
  "nbformat": 4,
  "nbformat_minor": 0,
  "metadata": {
    "colab": {
      "provenance": [],
      "authorship_tag": "ABX9TyN5E62tZExIGqVifOZeoQwz",
      "include_colab_link": true
    },
    "kernelspec": {
      "name": "python3",
      "display_name": "Python 3"
    },
    "language_info": {
      "name": "python"
    }
  },
  "cells": [
    {
      "cell_type": "markdown",
      "metadata": {
        "id": "view-in-github",
        "colab_type": "text"
      },
      "source": [
        "<a href=\"https://colab.research.google.com/github/TyapkinaPA/Individual_tasks-/blob/main/individual_task_4_2.ipynb\" target=\"_parent\"><img src=\"https://colab.research.google.com/assets/colab-badge.svg\" alt=\"Open In Colab\"/></a>"
      ]
    },
    {
      "cell_type": "markdown",
      "source": [
        "✅✅✅✅✅✅✅✅✅✅✅✅✅✅✅✅\n",
        "# 1. Сумма нечетных элементов \n",
        "##С помощью списковых включений вычислите сумму всех нечетных (по значению) элементов списка. \n"
      ],
      "metadata": {
        "id": "fVWZoDW3X676"
      }
    },
    {
      "cell_type": "code",
      "source": [
        "def sum_odds(v: list[int]) -> int:\n",
        "    return sum([x for x in v if x % 2 != 0])\n",
        "\n",
        "L = [3, 7, 2, 4, 5, 6] \n",
        "print(sum_odds(L)) # 15"
      ],
      "metadata": {
        "colab": {
          "base_uri": "https://localhost:8080/"
        },
        "id": "2F2kb2oyctDW",
        "outputId": "00fbad3b-67da-4654-983f-df2444c8dea9"
      },
      "execution_count": null,
      "outputs": [
        {
          "output_type": "stream",
          "name": "stdout",
          "text": [
            "15\n"
          ]
        }
      ]
    },
    {
      "cell_type": "markdown",
      "source": [
        "✅✅✅✅✅✅✅✅✅✅✅✅✅✅✅✅\n",
        "#2. Сумма по строкам \n",
        "##Пусть дана прямоугольная матрица чисел matrix в виде списка списков. Верните список сумм каждой из строк этой матрицы (эквивалент np.sum (matrix, axis=1)). "
      ],
      "metadata": {
        "id": "eFrqGQ2-YVWW"
      }
    },
    {
      "cell_type": "code",
      "source": [
        "def rowwise_sum(matrix: list[list[float]]) -> list[float]: \n",
        "  return [sum(t) for t in matrix ]\n",
        "\n",
        "matrix = [[1, 2], [3, 4]] \n",
        "print(rowwise_sum(matrix)) # [3, 7]"
      ],
      "metadata": {
        "id": "S5ZnAt2IYbFy",
        "colab": {
          "base_uri": "https://localhost:8080/"
        },
        "outputId": "158040af-4c96-4f86-d687-4a3402ed474c"
      },
      "execution_count": null,
      "outputs": [
        {
          "output_type": "stream",
          "name": "stdout",
          "text": [
            "[3, 7]\n"
          ]
        }
      ]
    },
    {
      "cell_type": "markdown",
      "source": [
        "✅✅✅✅✅✅✅✅✅✅✅✅✅✅✅✅\n",
        "#3. Итератор по соседним элементам \n",
        "##Реализуйте итератор/генератор, который позволит итерировать сразу парами соседних элементов, т.е. для списка [A, B, C, D]: \n",
        "##1. первая итерация A и B — первый и второй элементы списка; \n",
        "##2. вторая итерация B и C — второй и третий элементы списка; \n",
        "##3. третья и последняя итерация C и D — третий и четвертый элементы списка"
      ],
      "metadata": {
        "id": "srMAI-qpYitg"
      }
    },
    {
      "cell_type": "code",
      "source": [
        "def prev_next(iterable):\n",
        "    it = iter(iterable)\n",
        "    pr = next(it)\n",
        "    for el in it:\n",
        "        yield (pr, el) # используя return выводит только пару ['A', 'B']\n",
        "        pr = el \n",
        "# yield = return, но он позволяет выводить генератор\n",
        "x = [\"A\", \"B\", \"C\", \"D\"] \n",
        "print(list(prev_next(x))) # [(\"A\", \"B\"), (\"B\", \"C\"), (\"C\", \"D\")]"
      ],
      "metadata": {
        "id": "3ETICl_jYs4C",
        "colab": {
          "base_uri": "https://localhost:8080/"
        },
        "outputId": "2a46586c-e551-43aa-dbbb-21cd18e2fbea"
      },
      "execution_count": 58,
      "outputs": [
        {
          "output_type": "stream",
          "name": "stdout",
          "text": [
            "[('A', 'B'), ('B', 'C'), ('C', 'D')]\n"
          ]
        }
      ]
    },
    {
      "cell_type": "markdown",
      "source": [
        "✅✅✅✅✅✅✅✅✅✅✅✅✅✅✅✅\n",
        "#4. Счет вверх и вниз \n",
        "##Напишите генератор, который считает от 0 до n, а затем в обратном порядке. "
      ],
      "metadata": {
        "id": "YwiMiqCxYy1k"
      }
    },
    {
      "cell_type": "code",
      "source": [
        "def UpAndDown(n: int): \n",
        "  for i in range(n+1):\n",
        "    yield i\n",
        "  for i in range(n-1, -1, -1):\n",
        "    yield i\n",
        "\n",
        "print(list(UpAndDown(3))) # [0, 1, 2, 3, 2, 1, 0]\n",
        "print(list(UpAndDown(8))) # [0, 1, 2, 3, 4, 5, 6, 7, 8, 7, 6, 5, 4, 3, 2, 1, 0]"
      ],
      "metadata": {
        "id": "Blby5qQzY3Nv",
        "colab": {
          "base_uri": "https://localhost:8080/"
        },
        "outputId": "e4cb8493-84c0-4055-e1ea-ad88c8365384"
      },
      "execution_count": 48,
      "outputs": [
        {
          "output_type": "stream",
          "name": "stdout",
          "text": [
            "[0, 1, 2, 3, 2, 1, 0]\n",
            "[0, 1, 2, 3, 4, 5, 6, 7, 8, 7, 6, 5, 4, 3, 2, 1, 0]\n"
          ]
        }
      ]
    },
    {
      "cell_type": "markdown",
      "source": [
        "❌❌❌❌❌❌❌❌❌❌❌❌❌❌❌❌❌\n",
        "#5. Логирующий декоратор \n",
        "##В качестве примера реализуйте параметризованный декоратор logged, который при каждом вызове будет записывать данные для отладки в конец файла, переданного в декоратор в качестве параметра. Будет ли параметр именем файла или файловой переменной остаётся на ваше усмотрение. Декоратор, проверяющий тип Напишите параметризованный декоратор typed для функций одного аргумента, который бросает исключение TypeError, если функция вызвана с аргументом не того типа, который был указан в декораторе. \n",
        "\n"
      ],
      "metadata": {
        "id": "eUu6Q-XEY98Q"
      }
    },
    {
      "cell_type": "code",
      "source": [
        "def typed(type_): \n",
        "  \n",
        "\n",
        "@typed(str) \n",
        "def paint_red(x): \n",
        "  color_red = \"\\033[91m\"\n",
        "  color_end = \"\\033[0m\"\n",
        "  return \"\".join([color_red, x, color_end])"
      ],
      "metadata": {
        "id": "MZ0ZcYkJfDmE"
      },
      "execution_count": null,
      "outputs": []
    },
    {
      "cell_type": "markdown",
      "source": [
        "##Если эта функция вызывается со строковым аргументом, то при печати в консоль результат должен отображаться красным цветом. "
      ],
      "metadata": {
        "id": "fMUaMfy6gXiC"
      }
    },
    {
      "cell_type": "code",
      "source": [
        "print(paint_red(\"Текст красным цветом\")) "
      ],
      "metadata": {
        "id": "R_2MjxmhgdgC"
      },
      "execution_count": null,
      "outputs": []
    },
    {
      "cell_type": "markdown",
      "source": [
        "## Note \n",
        "## Вызов этой функции с аргументом другого типа, должен приводить к ошибке. "
      ],
      "metadata": {
        "id": "0uDKzSErlTiI"
      }
    },
    {
      "cell_type": "code",
      "source": [
        "try: \n",
        "  paint_red(42) \n",
        "except TypeError as msg: \n",
        "  print(msg) "
      ],
      "metadata": {
        "id": "BQOzB_vClYkO"
      },
      "execution_count": null,
      "outputs": []
    },
    {
      "cell_type": "markdown",
      "source": [
        "##Если func — имя декорируемой функции, x — имя её аргумента, а type_ — параметр, задающий тип этого аргумента в декораторе, то бросить необходимое исключение можно инструкцией."
      ],
      "metadata": {
        "id": "K4j6oGkhlcyf"
      }
    },
    {
      "cell_type": "code",
      "source": [
        "error_msg = \"Функция {} вызвана с неправильным типом аргумента {}. Ожидался тип {}.\"\n",
        "raise TypeError(error_msg.format(func.__name__, type(x).__name__, type_.__name__)) "
      ],
      "metadata": {
        "id": "ipnghuiMloVN"
      },
      "execution_count": null,
      "outputs": []
    }
  ]
}